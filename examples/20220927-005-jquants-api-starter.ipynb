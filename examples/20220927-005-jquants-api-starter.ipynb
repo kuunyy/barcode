{
  "nbformat": 4,
  "nbformat_minor": 0,
  "metadata": {
    "colab": {
      "provenance": []
    },
    "kernelspec": {
      "name": "python3",
      "display_name": "Python 3"
    },
    "language_info": {
      "name": "python"
    }
  },
  "cells": [
    {
      "cell_type": "markdown",
      "source": [
        "# 本日の概要\n",
        "- 本日話すこと\n",
        "    - J-Quants APIの利用の仕方\n",
        "    - J-Quants APIを利用した簡単なデータ分析\n",
        "\n",
        "- 本日話さないこと\n",
        "    - ゴリゴリのデータ分析\n",
        "    - データ分析を利用した投資・投資手法の紹介等\n",
        "\n",
        "\n",
        "プログラミング初心者の方や、これからデータ分析を始める方向けに、  \n",
        "コードも交えてJ-Quants APIの利用方法について紹介させていただきます！！"
      ],
      "metadata": {
        "id": "KkNXT7iUBckP"
      }
    },
    {
      "cell_type": "markdown",
      "source": [
        "# J-QuantsAPIについて"
      ],
      "metadata": {
        "id": "ZOgNFJtEY1g9"
      }
    },
    {
      "cell_type": "markdown",
      "source": [
        "## J-Quants APIの利用の仕方"
      ],
      "metadata": {
        "id": "IAkAWwXhWLjM"
      }
    },
    {
      "cell_type": "markdown",
      "source": [
        "\n",
        "\n",
        "1. [APIサービス登録ページ](https://jpx-jquants.com/auth/signup)よりJ-Quants APIサービスへ登録\n",
        "\n",
        "2. 登録後、[ログインページ](https://jpx-jquants.com/auth/signin)から登録したメールアドレス及びパスワードでJ-Quants APIサービスへログインしリフレッシュトークンを取得（取得ボタンを押下すると、自動的にクリップボードへコピーされます）\n",
        "3. CurlコマンドやPython等を用いて、リフレッシュトークンを利用し、ID tokenを取得\n",
        "4. CurlコマンドやPython等を用いて、取得したID tokenを利用し、データを取得\n",
        "\n",
        "なお、J-Quants APIの各種APIの仕様は[こちら](https://jpx.gitbook.io/j-quants-ja/api-reference)をご参照ください。"
      ],
      "metadata": {
        "id": "wWXM0pB9WQuu"
      }
    },
    {
      "cell_type": "code",
      "source": [
        "#@title 上記3. について、pythonによるID token取得サンプル\n",
        "import requests\n",
        "import json\n",
        "\n",
        "REFRESH_TOKEN = \"eyJjdHkiOiJKV1QiLCJlbmMiOiJBMjU2R0NNIiwiYWxnIjoiUlNBLU9BRVAifQ.IsGkmDvfQN3pmiqDX6qml_0_8WAhQX1E1KxqhyRhNb_V1lKtvJaHP3thKtbh09qAzvpClNacmiuQPKu0uMAPm6oZ_mOgGkQTtWXXtFpG5zkPKh5S8NpxrDBlVgCwp54SjvO302KMvaT6Ailp74tgjoKS3TK_aauhSEcgKH1yQ0v7Hmcj4UobfHkSpoGeIWXlcv5Rvjgppy_BqU1Pc7Mnm5NGdfwh1-8iZKlieELnUmdRV6nE2rTFD0vwwXJNglZe_93LkhL4g842f6V_v8H_5Oqlk_gOxNtNyk8GSwiLj6GhkWd9-LD4p-OX__mPc1TNQdq0uJkaoBpmmPgNTzyR5A.RcziGCbNGhBcvJsV.Qm648BSp-2JzX2SwIiNI8W-AQ2zpoq1Mxexsa-X0WZQPVeylb089udMumXrESgnjhhr4q2VF1jQNbsmrT7gVxJjSUZit7AL0Z3OhJrfjrtANRFh0HJwrMgq5L-u-roPg9bR070Bgnkb8JAzMeWjTKPB1lxEsnrBbuaScsRw-UtPuya6bcmd6iCQ3iQUNJdRiuLBQOk-qR-r3pGblPPVPdHBYO7S-pGuVfTt20lEf_0dedz_vdPcz0dC5LYM8njgewRp8FVffAyUMIOS08j0dxERa_VgDvPIDEmSCqXbqul_yulgPSYxrNqMB8tNqEluD7mfISWFlacDdTTvzmjOes67TiRrJLILzHi-QZUX4SuTqzccSJqRy5c_W-gtw6dXxijT0JsBkXt0nQFHzsYPQG19dnUjy7zdMZ81MHECZlG_tQxEhR1hYcYWZtiJiJ5OeOUv315xMh_O4A6-Ktmi7EN8nVqGJSCFOIjq2xvuzUCmQHxRD1sV2YsCm13xy0jFtIDgPkD9IHB7tAbNummvzxQ90M5TqOM5zbAQn5M-sG_QvJ1Z0nWIJKR-Im5CdfkV8z0w_O604rpdDSU8b82nEix0bEg7gqHe2KcnljublGY8xwECaES0LHwXbZ52KfpewfB7WFe7s3abLDL8SEy_NYgwj3DfOOuh1Z2t3LohmKhpJ0GmVEwyY_jAFepo9uGac6cz7Ph432VlpirwRBUNNppylO9FalwaJOY6y-lZXwkbbpZeCQ2mjmJNCi6ZR9VLevzJ2CB21m7jrngXIlruSxRjFaZgxtLZik40G3EpA7918rffXcuY5c9765907Fc5umdlekE0AyDr-PHq1HnHb1G-k1X7nuJmvdGs44h2cAGFMAjhzxHvbSzf8koPs9QQwkRoKi5Ou20kjArIZV5MtmK-0-9kh7DhIP289QVvHTUjFTMPQ-1ZhAkw8rksCql1GK7CgB25QzBdayAHTDqTTVd7CJUJHDZL6FYAJdha5UAPNkMdLQkUWMiRrJEe2TNO6dhjgfBwmb5QfetloTgLNvPnj7KKi6LPFcTj55Zy0EeFdg0V_6yWnckdnOw5EeNRoAssxOPGK4bqD0B4IxeSOsTDsjLPTQ7dAHA1yIpj5gTp7mPQMhKoqrfGQJVWxiNjzOMf6nJ4hYQSmyJytib09uGEm9WZTvsaCG50hUk9pinfAF8WMjuQc_sia4zWHwmhglXxCvozxMerY_A89BQ5gCpVNZg02YO1g8n27euygqBSKZBay8m1ywTEFM19ZXViXlnQoPddUvHhLHUZ88HiYN0SseyHTcX7aCYhTa4ZUREfvK3VUYgBzgoH_k6fyoggev478hxV6Hk8ldw.xCEy6HG0O7gvJD5Q8ZRoUQ\"\n",
        "idToken = requests.post(\n",
        "    f\"https://api.jquants.com/v1/token/auth_refresh?refreshtoken={REFRESH_TOKEN}\"\n",
        ").json()[\"idToken\"]\n"
      ],
      "metadata": {
        "id": "dZQEHU8rfatx"
      },
      "execution_count": 3,
      "outputs": []
    },
    {
      "cell_type": "code",
      "source": [
        "#@title 上記4.について、 pythonによるデータ取得サンプル（銘柄情報）\n",
        "# 上記３.idTokenを取得していることが前提です\n",
        "headers = {'Authorization': 'Bearer {}'.format(idToken)}\n",
        "r = requests.get(\"https://api.jquants.com/v1/listed/info\", headers=headers)\n",
        "\n",
        "# APIからのresponseはjson形式\n",
        "info_data = r.json()[\"info\"]\n",
        "\n",
        "# 取得したデータを5つ表示\n",
        "info_data[:5]\n"
      ],
      "metadata": {
        "id": "kv7PjrZRgcK2",
        "outputId": "5a881b10-e614-47b5-a7ba-2c9bd573370d",
        "colab": {
          "base_uri": "https://localhost:8080/"
        }
      },
      "execution_count": 4,
      "outputs": [
        {
          "output_type": "execute_result",
          "data": {
            "text/plain": [
              "[{'Date': '2024-12-16',\n",
              "  'Code': '13010',\n",
              "  'CompanyName': '極洋',\n",
              "  'CompanyNameEnglish': 'KYOKUYO CO.,LTD.',\n",
              "  'Sector17Code': '1',\n",
              "  'Sector17CodeName': '食品',\n",
              "  'Sector33Code': '0050',\n",
              "  'Sector33CodeName': '水産・農林業',\n",
              "  'ScaleCategory': 'TOPIX Small 2',\n",
              "  'MarketCode': '0111',\n",
              "  'MarketCodeName': 'プライム'},\n",
              " {'Date': '2024-12-16',\n",
              "  'Code': '13050',\n",
              "  'CompanyName': '大和アセットマネジメント株式会社\\u3000ｉＦｒｅｅＥＴＦ\\u3000ＴＯＰＩＸ（年１回決算型）',\n",
              "  'CompanyNameEnglish': 'iFreeETF TOPIX (Yearly Dividend Type)',\n",
              "  'Sector17Code': '99',\n",
              "  'Sector17CodeName': 'その他',\n",
              "  'Sector33Code': '9999',\n",
              "  'Sector33CodeName': 'その他',\n",
              "  'ScaleCategory': '-',\n",
              "  'MarketCode': '0109',\n",
              "  'MarketCodeName': 'その他'},\n",
              " {'Date': '2024-12-16',\n",
              "  'Code': '13060',\n",
              "  'CompanyName': '野村アセットマネジメント株式会社\\u3000ＮＥＸＴ\\u3000ＦＵＮＤＳ\\u3000ＴＯＰＩＸ連動型上場投信',\n",
              "  'CompanyNameEnglish': 'NEXT FUNDS TOPIX Exchange Traded Fund',\n",
              "  'Sector17Code': '99',\n",
              "  'Sector17CodeName': 'その他',\n",
              "  'Sector33Code': '9999',\n",
              "  'Sector33CodeName': 'その他',\n",
              "  'ScaleCategory': '-',\n",
              "  'MarketCode': '0109',\n",
              "  'MarketCodeName': 'その他'},\n",
              " {'Date': '2024-12-16',\n",
              "  'Code': '13080',\n",
              "  'CompanyName': '日興アセットマネジメント株式会社\\u3000\\u3000上場インデックスファンドＴＯＰＩＸ',\n",
              "  'CompanyNameEnglish': 'Nikko Exchange Traded Index Fund TOPIX',\n",
              "  'Sector17Code': '99',\n",
              "  'Sector17CodeName': 'その他',\n",
              "  'Sector33Code': '9999',\n",
              "  'Sector33CodeName': 'その他',\n",
              "  'ScaleCategory': '-',\n",
              "  'MarketCode': '0109',\n",
              "  'MarketCodeName': 'その他'},\n",
              " {'Date': '2024-12-16',\n",
              "  'Code': '13090',\n",
              "  'CompanyName': '野村アセットマネジメント株式会社\\u3000ＮＥＸＴ\\u3000ＦＵＮＤＳ\\u3000ＣｈｉｎａＡＭＣ・中国株式・上証５０連動型上場投信',\n",
              "  'CompanyNameEnglish': 'NEXT FUNDS ChinaAMC SSE50 Index Exchange Traded Fund',\n",
              "  'Sector17Code': '99',\n",
              "  'Sector17CodeName': 'その他',\n",
              "  'Sector33Code': '9999',\n",
              "  'Sector33CodeName': 'その他',\n",
              "  'ScaleCategory': '-',\n",
              "  'MarketCode': '0109',\n",
              "  'MarketCodeName': 'その他'}]"
            ]
          },
          "metadata": {},
          "execution_count": 4
        }
      ]
    },
    {
      "cell_type": "markdown",
      "source": [
        "## J-Quants API各種クライアントライブラリ"
      ],
      "metadata": {
        "id": "vf6qvLBOhbTJ"
      }
    },
    {
      "cell_type": "markdown",
      "source": [
        "J-Quants APIにはより使いやすくなるように、クライアントライブラリをalpacaさんや有志の方に作製いただいております！  \n",
        "作製いただいた方ありがとうございます！！\n",
        "\n",
        "\n",
        "\n",
        "* Python用クライアントライブラリ（ [jquants-api-client-python](https://github.com/J-Quants/jquants-api-client-python) ） (有償版対応済)\n",
        "\n",
        "* R用クライアントライブラリ（ [JQuantsR](https://github.com/J-Quants/JQuantsR) ） (有償版対応済)\n",
        "\n",
        "今回はPythonを用いるため、Python用クライアントライブラリを利用します。"
      ],
      "metadata": {
        "id": "vkr4V7Mohtxg"
      }
    },
    {
      "cell_type": "code",
      "source": [
        "# Google Colabでjquants-api-client-pythonを使えるようにインストール\n",
        "!pip install jquants-api-client\n"
      ],
      "metadata": {
        "id": "h-WxFL-coL4K"
      },
      "execution_count": null,
      "outputs": []
    },
    {
      "cell_type": "code",
      "source": [
        "# Google Driveをマウント\n",
        "from google.colab import drive\n",
        "drive.mount('/content/drive')\n"
      ],
      "metadata": {
        "id": "T8W0O5yFWT5f"
      },
      "execution_count": null,
      "outputs": []
    },
    {
      "cell_type": "markdown",
      "source": [
        "Driveをマウント後、[こちら](https://github.com/J-Quants/jquants-api-client-python#%E8%A8%AD%E5%AE%9A)を参考にAPI利用のための設定ファイル（jquants-api.toml）を作成します。\n",
        "\n",
        "この設定を行うことで、jquantsapiパッケージを利用し、リフレッシュトークン及びtokenIDを自動で取得してくれます！！"
      ],
      "metadata": {
        "id": "xO8LOJBHE1qn"
      }
    },
    {
      "cell_type": "code",
      "source": [
        "import requests\n",
        "import json\n",
        "import pandas as pd\n",
        "import plotly.express as px\n",
        "import plotly.graph_objects as go\n",
        "from plotly.subplots import make_subplots\n",
        "from datetime import datetime, timedelta\n",
        "import warnings\n",
        "\n",
        "import jquantsapi\n",
        "\n",
        "# pandasデータフレームの描画設定\n",
        "pd.set_option(\"display.max_columns\", None)\n",
        "pd.set_option(\"display.max_rows\", 40)\n",
        "pd.set_option(\"display.max_colwidth\", 80)\n",
        "\n",
        "warnings.simplefilter('ignore')\n",
        "\n",
        "# 今回はID及びPWは上記に記載の方法により別ファイルに保存しているため、引数特になしでOK。\n",
        "cli = jquantsapi.Client()\n",
        "\n",
        "# 以下のように直接引数として渡してもOKですが、メールアドレスとパスワードが平文でnotebookに残るため、別で設定ファイルを作成したほうが安全です。\n",
        "# cli = jquantsapi.Client(mail_address=\"ご登録いただいたメールアドレス\", password=\"ご登録いただいたパスワード\")\n"
      ],
      "metadata": {
        "id": "HCJbxQLxoYWB"
      },
      "execution_count": null,
      "outputs": []
    },
    {
      "cell_type": "code",
      "source": [
        "from google.colab import drive\n",
        "drive.mount('/content/drive')"
      ],
      "metadata": {
        "id": "MqHYgRgv9DPi"
      },
      "execution_count": null,
      "outputs": []
    },
    {
      "cell_type": "code",
      "source": [
        "# 試しに銘柄情報を取得\n",
        "cli.get_listed_info()"
      ],
      "metadata": {
        "id": "aoraqfriWfws"
      },
      "execution_count": null,
      "outputs": []
    },
    {
      "cell_type": "markdown",
      "source": [
        "その他、jquants-api-clientで利用できるものは[こちらの説明](https://github.com/J-Quants/jquants-api-client-python#%E5%AF%BE%E5%BF%9Capi)をご参照ください。\n"
      ],
      "metadata": {
        "id": "dJvtf_UoXJWC"
      }
    },
    {
      "cell_type": "markdown",
      "source": [
        "# 銘柄一覧情報 API（毎営業日の21時頃データ更新）\n",
        "\n",
        "銘柄情報は、東京証券取引所へ上場している銘柄について提供しています。"
      ],
      "metadata": {
        "id": "in1t1GGTXHx7"
      }
    },
    {
      "cell_type": "code",
      "source": [
        "df_info = cli.get_listed_info()\n",
        "\n",
        "# データフレームを確認\n",
        "df_info.info()\n",
        "\n",
        "print(\"\\n\")\n",
        "\n",
        "# データフレームを描画\n",
        "df_info\n"
      ],
      "metadata": {
        "id": "UF2xMSqimuPw"
      },
      "execution_count": null,
      "outputs": []
    },
    {
      "cell_type": "code",
      "source": [
        "# 欠損値の確認\n",
        "df_info[df_info.isnull().any(axis=1)]\n"
      ],
      "metadata": {
        "id": "ucCsQuUJlnTV"
      },
      "execution_count": null,
      "outputs": []
    },
    {
      "cell_type": "markdown",
      "source": [
        "### ひとくちメモ集"
      ],
      "metadata": {
        "id": "q7WqyHNcjnp4"
      }
    },
    {
      "cell_type": "markdown",
      "source": [
        "- 株式銘柄コードは、(発行体ごとに付番される固有名コード4桁)及び(株券の種類ごとに付番される予備コード1桁)で構成されている。  \n",
        "（ex.普通株は末尾が0、優先株は末尾が5）\n"
      ],
      "metadata": {
        "id": "YIGjDmvrfkjM"
      }
    },
    {
      "cell_type": "code",
      "source": [
        "# 普通株と優先株\n",
        "df_info[df_info[\"Code\"].isin([\"25930\", \"25935\"])]\n"
      ],
      "metadata": {
        "id": "kFP4cl2Jg6Rw"
      },
      "execution_count": null,
      "outputs": []
    },
    {
      "cell_type": "markdown",
      "source": [
        "なお、現在株式銘柄コードは数値のみですが、2024年1月1日以降に新たに設定するコード（新規上場等）から数字のほかに英文字が追加される予定とのことです。  \n",
        "ご興味ある方は[こちら](https://www.jpx.co.jp/sicc/securities-code/index.html)に資料等があります。"
      ],
      "metadata": {
        "id": "HFRYJ27xISbL"
      }
    },
    {
      "cell_type": "markdown",
      "source": [
        "- なお、Sector17Codeが99、またはSecter33Codeが9999のものは、ETFやREIT、インフラファンド等の銘柄になっています。"
      ],
      "metadata": {
        "id": "hoQoPK0coOm1"
      }
    },
    {
      "cell_type": "code",
      "source": [
        "df_info[df_info[\"Sector33Code\"] == \"9999\"]\n"
      ],
      "metadata": {
        "id": "Ku5ithg-oQid"
      },
      "execution_count": null,
      "outputs": []
    },
    {
      "cell_type": "markdown",
      "source": [
        "## 若干のデータ分析"
      ],
      "metadata": {
        "id": "_M9ehA9ikCf1"
      }
    },
    {
      "cell_type": "code",
      "source": [
        "# 銘柄一覧情報を取得\n",
        "df_info = cli.get_list()\n"
      ],
      "metadata": {
        "id": "HSBgCcYlkGfp"
      },
      "execution_count": null,
      "outputs": []
    },
    {
      "cell_type": "markdown",
      "source": [
        "### 17業種別の企業数"
      ],
      "metadata": {
        "id": "2appWzbgFpJm"
      }
    },
    {
      "cell_type": "code",
      "source": [
        "# ETF, REIT, インフラファンド等の17業種以外のデータを除外\n",
        "df = df_info[df_info[\"Sector17Code\"] != \"99\"]\n",
        "\n",
        "# 17業種名でグループ化\n",
        "df_sector = df.groupby(\"Sector17CodeName\").size().to_frame(\n",
        "    \"Count\").reset_index().sort_values(by=\"Count\", ascending=False)\n",
        "px.bar(df_sector, x=\"Sector17CodeName\", y=\"Count\", title=\"17業種別の企業数\")\n"
      ],
      "metadata": {
        "id": "kG5wuV0zFsgO"
      },
      "execution_count": null,
      "outputs": []
    },
    {
      "cell_type": "markdown",
      "source": [
        "### 33業種別の企業数"
      ],
      "metadata": {
        "id": "wx97fcQy91wT"
      }
    },
    {
      "cell_type": "code",
      "source": [
        "# ETF, REIT, インフラファンド等の33業種以外のデータを除外\n",
        "df = df_info[df_info[\"Sector33Code\"] != \"9999\"]\n",
        "\n",
        "# 33業種名でグループ化\n",
        "df_sector = df.groupby(\"Sector33CodeName\").size().to_frame(\n",
        "    \"Count\").reset_index().sort_values(by=\"Count\", ascending=False)\n",
        "px.bar(df_sector, x=\"Sector33CodeName\", y=\"Count\", title=\"33業種別の企業数\")\n"
      ],
      "metadata": {
        "id": "Zr9o0Z0k5YEv"
      },
      "execution_count": null,
      "outputs": []
    },
    {
      "cell_type": "markdown",
      "source": [
        "### 市場区分別の企業数"
      ],
      "metadata": {
        "id": "_NC9DYSl-vWe"
      }
    },
    {
      "cell_type": "code",
      "source": [
        "# 市場区分名でグループ化\n",
        "df_market = df_info.groupby(\"MarketCodeName\").size().to_frame(\n",
        "    \"Count\").reset_index().sort_values(by=\"Count\", ascending=False)\n",
        "px.bar(df_market, x=\"MarketCodeName\", y=\"Count\", title=\"市場区分別の企業数\")\n"
      ],
      "metadata": {
        "id": "kU25HFxB2zvk"
      },
      "execution_count": null,
      "outputs": []
    },
    {
      "cell_type": "markdown",
      "source": [
        "### 上記分析の両方を加味"
      ],
      "metadata": {
        "id": "qSpZOyQVst-6"
      }
    },
    {
      "cell_type": "code",
      "source": [
        "# ETF, REIT, インフラファンド等の33業種以外のデータを除外\n",
        "df = df_info[df_info[\"Sector33Code\"] != \"9999\"]\n",
        "\n",
        "# さらにプライム、スタンダード、グロース及びTokyoProMarket銘柄にフィルタ\n",
        "df = df[df[\"MarketCodeName\"].isin([\"プライム\", \"スタンダード\", \"グロース\", \"TOKYO PRO MARKET\"])]\n",
        "\n",
        "# 業種別及び市場名でグルーピング\n",
        "df_sector_market = df.groupby([\n",
        "    \"Sector33CodeName\", \"MarketCodeName\"\n",
        "]).size().to_frame(\"Count\").reset_index().sort_values(by=[\"MarketCodeName\", \"Count\"],\n",
        "                                                      ascending=False)\n",
        "\n",
        "px.bar(df_sector_market,\n",
        "       x=\"Sector33CodeName\",\n",
        "       y=\"Count\",\n",
        "       color=\"MarketCodeName\",\n",
        "       barmode=\"relative\",\n",
        "       title=\"33業種及び市場区分別の企業数\")\n"
      ],
      "metadata": {
        "id": "VRWWAS8G_hZc"
      },
      "execution_count": null,
      "outputs": []
    },
    {
      "cell_type": "markdown",
      "source": [
        "### 過去時点（１年前）の銘柄一覧で上記同様のグラフ描画"
      ],
      "metadata": {
        "id": "0DMfmDj-GLEj"
      }
    },
    {
      "cell_type": "code",
      "source": [
        "d = datetime.now() - timedelta(days=365)\n",
        "df_info = cli.get_listed_info(date_yyyymmdd=d.strftime(format=\"%Y%m%d\"))\n",
        "\n",
        "# ETF, REIT, インフラファンド等の33業種以外のデータを除外\n",
        "df = df_info[df_info[\"Sector33Code\"] != \"9999\"]\n",
        "\n",
        "# さらにプライム、スタンダード、グロース及びTokyoProMarket銘柄にフィルタ\n",
        "df = df[df[\"MarketCodeName\"].isin([\"プライム\", \"スタンダード\", \"グロース\", \"TOKYO PRO MARKET\"])]\n",
        "\n",
        "# 業種別及び市場名でグルーピング\n",
        "df_sector_market = df.groupby([\n",
        "    \"Sector33CodeName\", \"MarketCodeName\"\n",
        "]).size().to_frame(\"Count\").reset_index().sort_values(by=[\"MarketCodeName\", \"Count\"],\n",
        "                                                      ascending=False)\n",
        "px.bar(df_sector_market,\n",
        "       x=\"Sector33CodeName\",\n",
        "       y=\"Count\",\n",
        "       color=\"MarketCodeName\",\n",
        "       barmode=\"relative\",\n",
        "       title=\"33業種及び市場区分別の企業数\")\n"
      ],
      "metadata": {
        "id": "hx9apk4fPfEm"
      },
      "execution_count": null,
      "outputs": []
    },
    {
      "cell_type": "markdown",
      "source": [
        "# 株価情報 API（毎営業日の17時00分頃データ更新）\n",
        "\n",
        "株価データを取得することができます。  \n",
        "株価及び取引高は、株式分割・併合を考慮した調整済み株価（小数点第２位四捨五入）と調整前の株価の両方を取得することができます。  \n",
        "\n",
        "なお、データを取得する際には、株式銘柄コード（code）または日付（date）の指定が必須となっています。\n",
        "\n",
        "また、地取に単独上場している銘柄については、株価配信していません。"
      ],
      "metadata": {
        "id": "IOurY_o-Y9Cl"
      }
    },
    {
      "cell_type": "markdown",
      "source": [
        "### 株式銘柄コード指定Ver"
      ],
      "metadata": {
        "id": "Cpd0yiiwqC_f"
      }
    },
    {
      "cell_type": "code",
      "source": [
        "df_quotes_bycode = cli.get_prices_daily_quotes(code=8697)\n",
        "\n",
        "# データフレームの情報を取得\n",
        "df_quotes_bycode.info()\n",
        "\n",
        "print(\"\\n\")\n",
        "\n",
        "# データフレームを描画\n",
        "df_quotes_bycode\n"
      ],
      "metadata": {
        "id": "AMMohwc-js08"
      },
      "execution_count": null,
      "outputs": []
    },
    {
      "cell_type": "code",
      "source": [
        "# 欠損値の確認\n",
        "df_quotes_bycode[df_quotes_bycode.isnull().any(axis=1)]\n"
      ],
      "metadata": {
        "id": "SBsxOE2unqEV"
      },
      "execution_count": null,
      "outputs": []
    },
    {
      "cell_type": "markdown",
      "source": [
        "### 取引日指定Ver"
      ],
      "metadata": {
        "id": "Cq2iNeB9qHTE"
      }
    },
    {
      "cell_type": "code",
      "source": [
        "d = datetime.now() - timedelta(days=365)\n",
        "df_quotes_bydate = cli.get_prices_daily_quotes(date_yyyymmdd=d.strftime(format=\"%Y%m%d\"))\n",
        "\n",
        "# データフレームの情報を取得\n",
        "df_quotes_bydate.info()\n",
        "\n",
        "print(\"\\n\")\n",
        "\n",
        "# データフレームを描画\n",
        "df_quotes_bydate\n"
      ],
      "metadata": {
        "id": "zLbZCoQpnqm3"
      },
      "execution_count": null,
      "outputs": []
    },
    {
      "cell_type": "code",
      "source": [
        "# 欠損値の確認\n",
        "df_quotes_bydate[df_quotes_bydate.isnull().any(axis=1)]\n"
      ],
      "metadata": {
        "id": "kE77mWfSq1dd"
      },
      "execution_count": null,
      "outputs": []
    },
    {
      "cell_type": "markdown",
      "source": [
        "その日取引が成立しなかった銘柄については、NaNが入っている。"
      ],
      "metadata": {
        "id": "efG0qAKfq7BE"
      }
    },
    {
      "cell_type": "markdown",
      "source": [
        "### ひとくちメモ集"
      ],
      "metadata": {
        "id": "gQNAyN8mrxf2"
      }
    },
    {
      "cell_type": "markdown",
      "source": [
        "- jquants-api-clientでは、`get_price_range()`を使うことで、銘柄指定せずに`from`, `to`で株価データが取得できます！（ありがたい...！）"
      ],
      "metadata": {
        "id": "6gV7aFgkxjNc"
      }
    },
    {
      "cell_type": "code",
      "source": [
        "d_from = datetime.now() - timedelta(days=365)\n",
        "d_to = datetime.now() - timedelta(days=335)\n",
        "df_quotes = cli.get_price_range(start_dt=d_from.strftime(format=\"%Y%m%d\"), end_dt=d_to.strftime(format=\"%Y%m%d\"))\n",
        "df_quotes\n"
      ],
      "metadata": {
        "id": "Mwz8uApUxm-E"
      },
      "execution_count": null,
      "outputs": []
    },
    {
      "cell_type": "markdown",
      "source": [
        "## 若干のデータ分析"
      ],
      "metadata": {
        "id": "kaT1wWtSyhUV"
      }
    },
    {
      "cell_type": "markdown",
      "source": [
        "- 株価分析でよくある図を作成してみる"
      ],
      "metadata": {
        "id": "lXXGMtizQEAD"
      }
    },
    {
      "cell_type": "code",
      "source": [
        "# JPXの株価を取得\n",
        "df_jpx = cli.get_prices_daily_quotes(code=8697)\n",
        "\n",
        "# グラフに第2軸を設定\n",
        "fig = make_subplots(specs=[[{\"secondary_y\": True}]])\n",
        "\n",
        "# ローソク足を描画\n",
        "fig.add_trace(\n",
        "    go.Candlestick(x=df_jpx.Date,\n",
        "                   open=df_jpx.AdjustmentOpen,\n",
        "                   high=df_jpx.AdjustmentHigh,\n",
        "                   low=df_jpx.AdjustmentLow,\n",
        "                   close=df_jpx.AdjustmentClose,\n",
        "                   name=\"OHLC\"))\n",
        "\n",
        "# 25日移動平均\n",
        "fig.add_trace(\n",
        "    go.Scatter(x=df_jpx.Date,\n",
        "               y=df_jpx.AdjustmentClose.rolling(25).mean(),\n",
        "               name=\"25日移動平均線\"))\n",
        "\n",
        "# 75日移動平均\n",
        "fig.add_trace(\n",
        "    go.Scatter(x=df_jpx.Date,\n",
        "               y=df_jpx.AdjustmentClose.rolling(75).mean(),\n",
        "               name=\"75日移動平均線\"))\n",
        "\n",
        "# 取引高を第2軸に設定\n",
        "fig.add_trace(go.Bar(x=df_jpx.Date, y=df_jpx.AdjustmentVolume, name=\"調整済み取引高\"),\n",
        "              secondary_y=True)\n",
        "fig.update_layout(title_text=\"JPX（8697）のローソク足及び出来高\")\n",
        "fig.show()\n"
      ],
      "metadata": {
        "id": "0qS4NGdYyeI0"
      },
      "execution_count": null,
      "outputs": []
    },
    {
      "cell_type": "markdown",
      "source": [
        "# 財務情報 API（18時ごろ及び24時30分頃更新）\n",
        "\n",
        "財務情報は上場会社の四半期及び通期の決算短信に係る情報を取得できます。"
      ],
      "metadata": {
        "id": "9Ox2YvyjY_p8"
      }
    },
    {
      "cell_type": "code",
      "source": [
        "df_fins = cli.get_fins_statements(code=8697)\n",
        "\n",
        "# データフレームを確認\n",
        "df_fins.info()\n",
        "\n",
        "print(\"\\n\")\n",
        "\n",
        "# データフレームを描画\n",
        "df_fins\n"
      ],
      "metadata": {
        "id": "MCF7Vh166U7O"
      },
      "execution_count": null,
      "outputs": []
    },
    {
      "cell_type": "code",
      "source": [
        "# 欠損値の確認\n",
        "df_fins[df_fins.isnull().any(axis=1)]\n"
      ],
      "metadata": {
        "id": "h_8PnfBU_Kxh"
      },
      "execution_count": null,
      "outputs": []
    },
    {
      "cell_type": "markdown",
      "source": [
        "取得したデータフレームには空欄の箇所が多くみられるが、Null値は存在しない。  \n",
        "本APIのデータは、各企業が適時開示したXBRLデータに基づき作成しており、当該XBRLデータにおいて、データの無い箇所には空文字が入っていることから、本APIにおいても空欄となっている箇所が多くある。"
      ],
      "metadata": {
        "id": "V6JdDezubeHw"
      }
    },
    {
      "cell_type": "markdown",
      "source": [
        "## 若干のデータ分析"
      ],
      "metadata": {
        "id": "6SBxtk9i6Rcc"
      }
    },
    {
      "cell_type": "code",
      "source": [
        "# 過去の一定期間の財務情報を取得\n",
        "d_from = datetime.now() - timedelta(days=300)\n",
        "d_to = datetime.now() - timedelta(days=270)\n",
        "df_fins = cli.get_statements_range(start_dt=d_from.strftime(format=\"%Y%m%d\"), end_dt=d_to.strftime(format=\"%Y%m%d\"))\n"
      ],
      "metadata": {
        "id": "EatgPstsnob-"
      },
      "execution_count": null,
      "outputs": []
    },
    {
      "cell_type": "code",
      "source": [
        "# 書類種別の項目を表示\n",
        "df_fins[\"TypeOfDocument\"].value_counts()\n"
      ],
      "metadata": {
        "id": "CxONVOPLDM7l"
      },
      "execution_count": null,
      "outputs": []
    },
    {
      "cell_type": "markdown",
      "source": [
        "書類種別には、連結（Consolidated）や非連結（NonConsolidated）決算、予想の修正（ForecastRevision）の開示等があることがわかる。"
      ],
      "metadata": {
        "id": "Bi86Iwo5FNr0"
      }
    },
    {
      "cell_type": "code",
      "source": [
        "# 会計期間の種類を表示\n",
        "df_fins[\"TypeOfCurrentPeriod\"].value_counts()\n"
      ],
      "metadata": {
        "id": "AWBl4QmfNw-G"
      },
      "execution_count": null,
      "outputs": []
    },
    {
      "cell_type": "code",
      "source": [
        "# 事業年度の終了日を表示\n",
        "df_fins_onlyFY = df_fins[df_fins[\"TypeOfDocument\"].str.contains(\n",
        "    \"FYFinancialStatements\")]\n",
        "df_fins_onlyFY[\"CurrentPeriodEndDate\"].value_counts()\n"
      ],
      "metadata": {
        "id": "v9ZFCieEOweK"
      },
      "execution_count": null,
      "outputs": []
    },
    {
      "cell_type": "code",
      "source": [
        "# 一番多い決算期末の日付でフィルタ\n",
        "df_fins_onlyFY_onMar = df_fins_onlyFY[df_fins_onlyFY[\"CurrentPeriodEndDate\"] ==\n",
        "                                      df_fins_onlyFY[\"CurrentPeriodEndDate\"].max().strftime(format(\"%Y%m%d\"))]\n",
        "\n",
        "# 開示日でグループ化し、開示件数を描画\n",
        "df_disclosed_date = df_fins_onlyFY_onMar.groupby(\n",
        "    \"DisclosedDate\").size().to_frame(\"Count\").reset_index()\n",
        "px.bar(df_disclosed_date, x=\"DisclosedDate\", y=\"Count\", title=\"日ごとの開示件数\")\n"
      ],
      "metadata": {
        "id": "lknuNNqgRVTD"
      },
      "execution_count": null,
      "outputs": []
    },
    {
      "cell_type": "markdown",
      "source": [
        "ある日に開示が集中していることがわかる（決算期末を迎えてから45日以内に開示しなければならないため）"
      ],
      "metadata": {
        "id": "e1034bJHV9Cc"
      }
    },
    {
      "cell_type": "markdown",
      "source": [
        "# マーケット情報 API（毎週第4営業日に週次で更新） **（Lightプラン以上のプランの方のみ利用可能）**\n",
        "\n",
        "2017年1月から足元までの投資部門別売買状況（金額）のデータを取得することができます。  \n",
        "なお、配信データは[こちらのページ](https://www.jpx.co.jp/markets/statistics-equities/investor-type/index.html)で公表している内容と同一です。  "
      ],
      "metadata": {
        "id": "tnIOKgSdX0GV"
      }
    },
    {
      "cell_type": "code",
      "source": [
        "df_trades_spec = cli.get_markets_trades_spec()\n",
        "\n",
        "# データフレームを確認\n",
        "df_trades_spec.info()\n",
        "\n",
        "print(\"\\n\")\n",
        "\n",
        "# データフレームを描画\n",
        "df_trades_spec\n"
      ],
      "metadata": {
        "id": "Re_RHFAbX0GW"
      },
      "execution_count": null,
      "outputs": []
    },
    {
      "cell_type": "code",
      "source": [
        "# 欠損値の確認\n",
        "df_trades_spec[df_trades_spec.isnull().any(axis=1)]\n"
      ],
      "metadata": {
        "id": "nSv896BR_oIt"
      },
      "execution_count": null,
      "outputs": []
    },
    {
      "cell_type": "markdown",
      "source": [
        "## 若干のデータ分析"
      ],
      "metadata": {
        "id": "jheKeIcEX0GW"
      }
    },
    {
      "cell_type": "code",
      "source": [
        "# 2022年4月以降のプライム市場の投資部門別データを取得\n",
        "df_trades_spec = cli.get_markets_trades_spec(section=jquantsapi.MARKET_API_SECTIONS.TSEPrime,\n",
        "                                             from_yyyymmdd=20220408)\n",
        "\n",
        "# 各属性のうち、Balance（売り買いの差し引き金額）の項目のみ取得\n",
        "columns_balance = df_trades_spec.columns[df_trades_spec.columns.str.contains(\n",
        "    \"Balance\")]\n",
        "df_trades_spec_only_balance = df_trades_spec[columns_balance].copy()\n",
        "\n",
        "# 投資部門別データの公表日を選択した項目のデータフレームへ転記\n",
        "df_trades_spec_only_balance.loc[:, \"StartDate\"] = df_trades_spec[\n",
        "    \"StartDate\"].copy()\n",
        "df_trades_spec_only_balance.set_index(\"StartDate\", inplace=True)\n",
        "\n",
        "# 海外投資家、個人、投資信託、信託銀行の4つの属性のみ描画\n",
        "fig = px.bar(df_trades_spec_only_balance,\n",
        "             x=df_trades_spec_only_balance.index,\n",
        "             y=[\n",
        "                 \"ForeignersBalance\", \"IndividualsBalance\",\n",
        "                 \"InvestmentTrustsBalance\", \"TrustBanksBalance\"\n",
        "             ],\n",
        "             barmode=\"group\")\n",
        "fig.update_xaxes(type=\"category\")\n",
        "fig.show()\n"
      ],
      "metadata": {
        "id": "jDzZ_UVzD5Ua"
      },
      "execution_count": null,
      "outputs": []
    },
    {
      "cell_type": "code",
      "source": [
        "# 日ごとだと見にくいため、月単位で合計してみる\n",
        "df_monthly = df_trades_spec_only_balance.resample(\"M\").sum()\n",
        "fig = px.bar(df_monthly,\n",
        "       x=df_monthly.index,\n",
        "       y=[\n",
        "           \"ForeignersBalance\", \"IndividualsBalance\",\n",
        "           \"InvestmentTrustsBalance\", \"TrustBanksBalance\"\n",
        "       ],\n",
        "       barmode=\"group\")\n",
        "fig.update_xaxes(\n",
        "    dtick=\"M1\",\n",
        "    tickformat=\"%b %Y\",\n",
        "    tick0=\"2022-04-30\")\n",
        "fig.show()\n"
      ],
      "metadata": {
        "id": "70w4GZ8YWmpb"
      },
      "execution_count": null,
      "outputs": []
    },
    {
      "cell_type": "markdown",
      "source": [
        "2022年4月に海外投資家が大きく買い越しているが、5月以降はほぼ売り越しとなっていそう。（10月から買い戻しの動き？？  11/25追記）\n",
        "- 2022年4月以前の状況はどうか？\n",
        "- 今回はプライム市場でフィルタしているが、他の市場区分だとどうか？"
      ],
      "metadata": {
        "id": "uzt9fKo0gHur"
      }
    },
    {
      "cell_type": "markdown",
      "source": [
        "# TOPIX指数API **（Lightプラン以上のプランの方のみ利用可能）**\n",
        "\n",
        "2021年1月から足元までのTOPIX指数のデータを取得することができます。  "
      ],
      "metadata": {
        "id": "SDyo1lqF1RV0"
      }
    },
    {
      "cell_type": "code",
      "source": [
        "df_topix = cli.get_indices_topix()\n",
        "\n",
        "# データフレームを確認\n",
        "df_topix.info()\n",
        "\n",
        "print(\"\\n\")\n",
        "\n",
        "# データフレームを描画\n",
        "df_topix\n"
      ],
      "metadata": {
        "id": "KjTkuMxs27X4"
      },
      "execution_count": null,
      "outputs": []
    },
    {
      "cell_type": "code",
      "source": [
        "# 欠損値の確認\n",
        "df_topix[df_topix.isnull().any(axis=1)]\n"
      ],
      "metadata": {
        "id": "gYr-AIci27X6"
      },
      "execution_count": null,
      "outputs": []
    },
    {
      "cell_type": "markdown",
      "source": [
        "## 若干のデータ分析（JPXとTOPIX指数の比較）"
      ],
      "metadata": {
        "id": "RB9Dg2IP3M7z"
      }
    },
    {
      "cell_type": "code",
      "source": [
        "# JPXの2021年からの株価を取得\n",
        "d_now = datetime.now().strftime(\"%Y%m%d\")\n",
        "df_jpx = cli.get_prices_daily_quotes(code=8697, from_yyyymmdd=20210101, to_yyyymmdd=d_now)\n",
        "df_topix = cli.get_indices_topix(from_yyyymmdd=20210101, to_yyyymmdd=d_now)\n",
        "\n",
        "# グラフに第2軸を設定\n",
        "fig = make_subplots(specs=[[{\"secondary_y\": True}]])\n",
        "\n",
        "# ローソク足を描画\n",
        "fig.add_trace(\n",
        "    go.Candlestick(x=df_jpx.Date,\n",
        "                   open=df_jpx.AdjustmentOpen,\n",
        "                   high=df_jpx.AdjustmentHigh,\n",
        "                   low=df_jpx.AdjustmentLow,\n",
        "                   close=df_jpx.AdjustmentClose,\n",
        "                   name=\"OHLC\"))\n",
        "\n",
        "# 取引高を第2軸に設定\n",
        "fig.add_trace(go.Scatter(x=df_topix.Date, y=df_topix.Close, name=\"TOPIX指数終値\", line=dict(color=\"#51848E\")),\n",
        "              secondary_y=True)\n",
        "fig.update_layout(title_text=\"JPX（8697）のローソク足及びTOPIX指数\")\n",
        "fig.show()\n"
      ],
      "metadata": {
        "id": "RxpZT1jA1RV1"
      },
      "execution_count": null,
      "outputs": []
    },
    {
      "cell_type": "markdown",
      "source": [
        "# FinVizのTreeMapみたいなやつ"
      ],
      "metadata": {
        "id": "nXzXQx-LQNP4"
      }
    },
    {
      "cell_type": "markdown",
      "source": [
        "- 各APIを統合して利用した分析として、FinVizのTreeMapのようなものを作ってみる"
      ],
      "metadata": {
        "id": "4EpjbzS63LNo"
      }
    },
    {
      "cell_type": "markdown",
      "source": [
        "## 33業種で作成"
      ],
      "metadata": {
        "id": "WMla6uaJMe_o"
      }
    },
    {
      "cell_type": "markdown",
      "source": [
        "### 時価総額を算出するため、各銘柄の期末発行済み株式数を取得"
      ],
      "metadata": {
        "id": "YxoB18tdJoQi"
      }
    },
    {
      "cell_type": "code",
      "source": [
        "# 2023年初来の財務情報取得\n",
        "df_fins = cli.get_statements_range(start_dt=\"20230101\")\n",
        "\n",
        "\n",
        "# 財務情報データから取得したい項目（株式銘柄コード、期末発行済株式数）を定義\n",
        "fins_columns = [\n",
        "    \"LocalCode\",\n",
        "    \"NumberOfIssuedAndOutstandingSharesAtTheEndOfFiscalYearIncludingTreasuryStock\"\n",
        "]\n",
        "\n",
        "# 財務情報テータから必要なデータのみ取得\n",
        "df_treasury_stock = df_fins[df_fins[\n",
        "    \"NumberOfIssuedAndOutstandingSharesAtTheEndOfFiscalYearIncludingTreasuryStock\"]\n",
        "                            != \"\"][fins_columns]\n",
        "\n",
        "# 列名の変更（LocalCode -> Code）\n",
        "df_treasury_stock = df_treasury_stock.rename(columns={\"LocalCode\": \"Code\"})\n",
        "\n",
        "\n",
        "# 期末発行済株式数を文字列から整数に変換\n",
        "df_treasury_stock[\n",
        "    \"NumberOfIssuedAndOutstandingSharesAtTheEndOfFiscalYearIncludingTreasuryStock\"] = df_treasury_stock[\n",
        "        \"NumberOfIssuedAndOutstandingSharesAtTheEndOfFiscalYearIncludingTreasuryStock\"].astype(\"int\")\n",
        "\n",
        "# 期末発行済株式数を銘柄毎にグループ化して平均\n",
        "df_treasury_stock = df_treasury_stock.groupby(\n",
        "    by=\"Code\").mean().reset_index()\n"
      ],
      "metadata": {
        "id": "zBIP-oKfu3ya"
      },
      "execution_count": null,
      "outputs": []
    },
    {
      "cell_type": "markdown",
      "source": [
        "### 33業種のそれぞれについて、時価総額Top5の企業を取得"
      ],
      "metadata": {
        "id": "McKUm9wIJ0tZ"
      }
    },
    {
      "cell_type": "code",
      "source": [
        "# 昨日の全銘柄株価を取得\n",
        "d_yesterday = (datetime.now() - timedelta(days=1)).strftime(format=\"%Y%m%d\")\n",
        "df_prices = cli.get_prices_daily_quotes(date_yyyymmdd=d_yesterday)\n",
        "\n",
        "# 銘柄一覧を取得\n",
        "df_info = cli.get_list()\n",
        "\n",
        "# 銘柄一覧と全銘柄株価を株式銘柄コードで結合\n",
        "df_merge = pd.merge(df_prices, df_info, how=\"inner\", on=\"Code\")\n",
        "\n",
        "# さらに先程取得した期末発行済み株式数と結合\n",
        "df_merge = pd.merge(df_merge, df_treasury_stock, how=\"inner\", on=\"Code\")\n",
        "\n",
        "# 時価総額をデータフレームに追加\n",
        "df_merge[\"Capitalization\"] = df_merge[\"AdjustmentClose\"] * df_merge[\n",
        "    \"NumberOfIssuedAndOutstandingSharesAtTheEndOfFiscalYearIncludingTreasuryStock\"]\n",
        "\n",
        "# 時価総額及び業種コードでソート\n",
        "df_merge = df_merge.sort_values(by=[\"Capitalization\"], ascending=False)\n",
        "\n",
        "# 業種名毎の上位５社を抽出\n",
        "df_top5 = df_merge.groupby(\"Sector33CodeName\").head(5)\n",
        "\n",
        "# 業種その他（ETF等）を除外\n",
        "df_top5 = df_top5[df_top5[\"Sector33Code\"] != \"9999\"]\n",
        "\n",
        "# 各業種の時価総額Top5の株式銘柄コードを取得\n",
        "top5_codes = df_top5[\"Code\"]\n"
      ],
      "metadata": {
        "id": "nY2Zs7UK3ZdO"
      },
      "execution_count": null,
      "outputs": []
    },
    {
      "cell_type": "markdown",
      "source": [
        "### 33業種のそれぞれについて、時価総額Top5の企業の約1か月（20営業日）のリターンを取得"
      ],
      "metadata": {
        "id": "klyKYN8dKKhy"
      }
    },
    {
      "cell_type": "code",
      "source": [
        "# ３月の約１か月分の全銘柄の株価情報を取得\n",
        "\n",
        "df_1month_prices = cli.get_price_range(start_dt=\"20230228\", end_dt=\"20230331\")\n",
        "\n",
        "# 各業種の時価総額Top5のみの調整済み終値を取得\n",
        "df_top5_1month_prices = df_1month_prices[df_1month_prices[\"Code\"].isin(\n",
        "    top5_codes)][[\"Code\", \"Date\", \"AdjustmentClose\"]]\n",
        "\n",
        "# 約1か月のリターン計算する関数\n",
        "def calc_return(df, code):\n",
        "    df = df[df[\"Code\"] == code]\n",
        "    df[\"Return\"] = df[\"AdjustmentClose\"].pct_change(20)\n",
        "    return df[[\"Code\", \"Return\"]].tail(1).to_dict(orient=\"records\")\n",
        "\n",
        "# 各銘柄の約1か月のリターンを作成\n",
        "returns_list = []\n",
        "\n",
        "for code in top5_codes:\n",
        "    df = calc_return(df_top5_1month_prices, code)\n",
        "    returns_list.extend(df)\n",
        "\n",
        "# リターンのデータフレームを作成\n",
        "df_returns = pd.DataFrame(returns_list)"
      ],
      "metadata": {
        "id": "fQ-QSXr3R8pb"
      },
      "execution_count": null,
      "outputs": []
    },
    {
      "cell_type": "markdown",
      "source": [
        "### 業種、企業名、時価総額、リターンからtreemapを描画"
      ],
      "metadata": {
        "id": "IFCPIBN0KWTz"
      }
    },
    {
      "cell_type": "code",
      "source": [
        "# リターンのデータフレームを結合\n",
        "df_top5_with_returns = pd.merge(df_top5, df_returns, how=\"inner\", on=\"Code\")\n",
        "\n",
        "# treemapを描画\n",
        "fig = px.treemap(df_top5_with_returns,\n",
        "                 path=[px.Constant(\"TSE\"), \"Sector33CodeName\", \"CompanyName\"],\n",
        "                 values=\"Capitalization\",\n",
        "                 color=\"Return\",\n",
        "                 color_continuous_scale=[\"red\", \"white\", \"green\"],\n",
        "                 color_continuous_midpoint=0)\n",
        "fig.update_layout(margin=dict(t=50, l=25, r=25, b=25))\n",
        "fig.show()\n"
      ],
      "metadata": {
        "id": "RJt4Y7jtKFPg"
      },
      "execution_count": null,
      "outputs": []
    },
    {
      "cell_type": "markdown",
      "source": [
        "## 17業種でも作成"
      ],
      "metadata": {
        "id": "MyvNuiZsMmG2"
      }
    },
    {
      "cell_type": "markdown",
      "source": [
        "### 時価総額を算出するため、各銘柄の期末発行済み株式数を取得"
      ],
      "metadata": {
        "id": "drt5oLNHMTtH"
      }
    },
    {
      "cell_type": "code",
      "source": [
        "# 2023年初来の財務情報取得\n",
        "df_fins = cli.get_statements_range(start_dt=\"20230101\")\n",
        "\n",
        "\n",
        "# 財務情報データから取得したい項目（株式銘柄コード、期末発行済株式数）を定義\n",
        "fins_columns = [\n",
        "    \"LocalCode\",\n",
        "    \"NumberOfIssuedAndOutstandingSharesAtTheEndOfFiscalYearIncludingTreasuryStock\"\n",
        "]\n",
        "\n",
        "# 財務情報テータから必要なデータのみ取得\n",
        "df_treasury_stock = df_fins[df_fins[\n",
        "    \"NumberOfIssuedAndOutstandingSharesAtTheEndOfFiscalYearIncludingTreasuryStock\"]\n",
        "                            != \"\"][fins_columns]\n",
        "\n",
        "# 列名の変更（LocalCode -> Code）\n",
        "df_treasury_stock = df_treasury_stock.rename(columns={\"LocalCode\": \"Code\"})\n",
        "\n",
        "\n",
        "# 期末発行済株式数を文字列から整数に変換\n",
        "df_treasury_stock[\n",
        "    \"NumberOfIssuedAndOutstandingSharesAtTheEndOfFiscalYearIncludingTreasuryStock\"] = df_treasury_stock[\n",
        "        \"NumberOfIssuedAndOutstandingSharesAtTheEndOfFiscalYearIncludingTreasuryStock\"].astype(\"int\")\n",
        "\n",
        "# 期末発行済株式数を銘柄毎にグループ化して平均\n",
        "df_treasury_stock = df_treasury_stock.groupby(\n",
        "    by=\"Code\").mean().reset_index()\n"
      ],
      "metadata": {
        "id": "8ErokySZMTtU"
      },
      "execution_count": null,
      "outputs": []
    },
    {
      "cell_type": "markdown",
      "source": [
        "### 33業種のそれぞれについて、時価総額Top5の企業を取得"
      ],
      "metadata": {
        "id": "Wj8GG8yaMTtU"
      }
    },
    {
      "cell_type": "code",
      "source": [
        "# 昨日の全銘柄株価を取得\n",
        "d_yesterday = (datetime.now() - timedelta(days=1)).strftime(format=\"%Y%m%d\")\n",
        "df_prices = cli.get_prices_daily_quotes(date_yyyymmdd=d_yesterday)\n",
        "\n",
        "\n",
        "# 銘柄一覧を取得\n",
        "df_info = cli.get_list()\n",
        "\n",
        "# 銘柄一覧と全銘柄株価を株式銘柄コードで結合\n",
        "df_merge = pd.merge(df_prices, df_info, how=\"inner\", on=\"Code\")\n",
        "\n",
        "# さらに先程取得した期末発行済み株式数と結合\n",
        "df_merge = pd.merge(df_merge, df_treasury_stock, how=\"inner\", on=\"Code\")\n",
        "\n",
        "# 時価総額をデータフレームに追加\n",
        "df_merge[\"Capitalization\"] = df_merge[\"AdjustmentClose\"] * df_merge[\n",
        "    \"NumberOfIssuedAndOutstandingSharesAtTheEndOfFiscalYearIncludingTreasuryStock\"]\n",
        "\n",
        "# 時価総額及び業種コードでソート\n",
        "df_merge = df_merge.sort_values(by=[\"Capitalization\"], ascending=False)\n",
        "\n",
        "# 業種名毎の上位５社を抽出\n",
        "df_top5 = df_merge.groupby(\"Sector17CodeName\").head(5)\n",
        "\n",
        "# 業種その他（ETF等）を除外\n",
        "df_top5 = df_top5[df_top5[\"Sector17Code\"] != \"99\"]\n",
        "\n",
        "# 各業種の時価総額Top5の株式銘柄コードを取得\n",
        "top5_codes = df_top5[\"Code\"]\n"
      ],
      "metadata": {
        "id": "udsV1CxbMTtV"
      },
      "execution_count": null,
      "outputs": []
    },
    {
      "cell_type": "markdown",
      "source": [
        "### 33業種のそれぞれについて、時価総額Top5の企業の約1か月（20営業日）のリターンを取得"
      ],
      "metadata": {
        "id": "KjF3aMKwMTtV"
      }
    },
    {
      "cell_type": "code",
      "source": [
        "# 9月末から10月末までの約１か月分の全銘柄の株価情報を取得\n",
        "df_1month_prices = cli.get_price_range(start_dt=\"20230228\", end_dt=\"20230331\")\n",
        "\n",
        "# 各業種の時価総額Top5のみの調整済み終値を取得\n",
        "df_top5_1month_prices = df_1month_prices[df_1month_prices[\"Code\"].isin(\n",
        "    top5_codes)][[\"Code\", \"Date\", \"AdjustmentClose\"]]\n",
        "\n",
        "# 約1か月のリターン計算する関数\n",
        "def calc_return(df, code):\n",
        "    df = df[df[\"Code\"] == code]\n",
        "    df[\"Return\"] = df[\"AdjustmentClose\"].pct_change(20)\n",
        "    return df[[\"Code\", \"Return\"]].tail(1).to_dict(orient=\"records\")\n",
        "\n",
        "# 各銘柄の約1か月のリターンを作成\n",
        "returns_list = []\n",
        "\n",
        "for code in top5_codes:\n",
        "    df = calc_return(df_top5_1month_prices, code)\n",
        "    returns_list.extend(df)\n",
        "\n",
        "# リターンのデータフレームを作成\n",
        "df_returns = pd.DataFrame(returns_list)"
      ],
      "metadata": {
        "id": "GDfWncTWMTtV"
      },
      "execution_count": null,
      "outputs": []
    },
    {
      "cell_type": "markdown",
      "source": [
        "### 業種、企業名、時価総額、リターンからtreemapを描画"
      ],
      "metadata": {
        "id": "t3RZ1wQIMTtW"
      }
    },
    {
      "cell_type": "code",
      "source": [
        "# リターンのデータフレームを結合\n",
        "df_top5_with_returns = pd.merge(df_top5, df_returns, how=\"inner\", on=\"Code\")\n",
        "\n",
        "# treemapを描画\n",
        "fig = px.treemap(df_top5_with_returns,\n",
        "                 path=[px.Constant(\"TSE\"), \"Sector17CodeName\", \"CompanyName\"],\n",
        "                 values=\"Capitalization\",\n",
        "                 color=\"Return\",\n",
        "                 color_continuous_scale=[\"red\", \"white\", \"green\"],\n",
        "                 color_continuous_midpoint=0)\n",
        "fig.update_layout(margin=dict(t=50, l=25, r=25, b=25))\n",
        "fig.show()\n"
      ],
      "metadata": {
        "id": "FrLes332MTtW"
      },
      "execution_count": null,
      "outputs": []
    },
    {
      "cell_type": "markdown",
      "source": [
        "# ご意見等\n",
        "その他、こんなデータが欲しいというご要望や、こんなデータありますか？といった質問もどしどし受け付けております！！\n",
        "\n",
        "[マケデコdiscord](https://discord.gg/xg6P5RXwaa)の`#j-quants-api`チャンネルに送ってください！！  \n",
        "よろしくお願いいたします。"
      ],
      "metadata": {
        "id": "ECuvXWrtcqiB"
      }
    },
    {
      "cell_type": "code",
      "source": [],
      "metadata": {
        "id": "rTg-yl_3NTeH"
      },
      "execution_count": null,
      "outputs": []
    }
  ]
}